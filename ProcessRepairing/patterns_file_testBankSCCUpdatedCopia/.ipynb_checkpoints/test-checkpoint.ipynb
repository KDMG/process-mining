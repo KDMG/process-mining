{
 "cells": [
  {
   "cell_type": "code",
   "execution_count": null,
   "metadata": {},
   "outputs": [],
   "source": [
    "import os\n",
    "import os.path\n",
    "from pathlib import Path\n",
    "import pandas as pd\n",
    "import pm4py\n",
    "from pm4py.objects.petri_net.importer import importer as pnml_importer\n",
    "from pm4py.visualization.petri_net import visualizer as pn_visualizer\n",
    "from pm4py.objects.log.importer.xes import importer as xes_importer\n",
    "from pm4py.algo.evaluation.replay_fitness import algorithm as replay_fitness_evaluator\n",
    "from pm4py.algo.evaluation.precision import algorithm as precision_evaluator\n",
    "from pm4py.algo.evaluation.simplicity import algorithm as simplicity_evaluator\n",
    "from pm4py.algo.conformance.alignments.petri_net import algorithm as alignments\n",
    "from pm4py.algo.analysis.woflan import algorithm as woflan"
   ]
  },
  {
   "cell_type": "code",
   "execution_count": 8,
   "metadata": {},
   "outputs": [
    {
     "data": {
      "application/vnd.jupyter.widget-view+json": {
       "model_id": "e909adb00a2347d7b5cf6c9bcb97d458",
       "version_major": 2,
       "version_minor": 0
      },
      "text/plain": [
       "HBox(children=(IntProgress(value=0, description='parsing log, completed traces :: ', max=146358, style=Progres…"
      ]
     },
     "metadata": {},
     "output_type": "display_data"
    },
    {
     "name": "stdout",
     "output_type": "stream",
     "text": [
      "\n"
     ]
    }
   ],
   "source": [
    "results_filename='C:/Users/lgenga/Google Drive/MaterialeFabio/BPI2017Denied/final_results.csv'\n",
    "base_path = Path(os.path.dirname(results_filename))\n",
    "eventlog_or= str(base_path / 'BPI2017Denied.xes')\n",
    "log = xes_importer.apply(eventlog_or)\n",
    "                         \n"
   ]
  },
  {
   "cell_type": "code",
   "execution_count": 9,
   "metadata": {},
   "outputs": [
    {
     "name": "stdout",
     "output_type": "stream",
     "text": [
      "working on dir Sub14\n",
      "analyzing net repaired_Sub14_petriNet.pnml\n",
      "analyzing net repaired_Sub14_petriNet_NLNI.pnml\n",
      "analyzing net repaired_Sub14_petriNet_YLNI.pnml\n",
      "working on dir Sub19\n",
      "analyzing net repaired_Sub19_petriNet.pnml\n",
      "analyzing net repaired_Sub19_petriNet_NLNI.pnml\n",
      "analyzing net repaired_Sub19_petriNet_YLNI.pnml\n",
      "working on dir Sub24\n",
      "analyzing net repaired_Sub24_petriNet.pnml\n",
      "analyzing net repaired_Sub24_petriNet_NLNI.pnml\n",
      "analyzing net repaired_Sub24_petriNet_YLNI.pnml\n",
      "working on dir Sub28\n",
      "analyzing net repaired_Sub28_petriNet.pnml\n",
      "analyzing net repaired_Sub28_petriNet_NLNI.pnml\n",
      "analyzing net repaired_Sub28_petriNet_YLNI.pnml\n",
      "working on dir Sub30\n",
      "analyzing net repaired_Sub30_petriNet.pnml\n",
      "analyzing net repaired_Sub30_petriNet_NLNI.pnml\n",
      "analyzing net repaired_Sub30_petriNet_YLNI.pnml\n",
      "working on dir Sub33\n",
      "analyzing net repaired_Sub33_petriNet.pnml\n",
      "analyzing net repaired_Sub33_petriNet_NLNI.pnml\n",
      "analyzing net repaired_Sub33_petriNet_YLNI.pnml\n",
      "working on dir Sub50\n",
      "analyzing net repaired_Sub50_petriNet.pnml\n",
      "analyzing net repaired_Sub50_petriNet_NLNI.pnml\n",
      "analyzing net repaired_Sub50_petriNet_YLNI.pnml\n",
      "working on dir Sub56\n",
      "analyzing net repaired_Sub56_petriNet.pnml\n",
      "analyzing net repaired_Sub56_petriNet_NLNI.pnml\n",
      "analyzing net repaired_Sub56_petriNet_YLNI.pnml\n",
      "working on dir Sub58\n",
      "analyzing net repaired_Sub58_petriNet.pnml\n",
      "analyzing net repaired_Sub58_petriNet_NLNI.pnml\n",
      "analyzing net repaired_Sub58_petriNet_YLNI.pnml\n",
      "working on dir Sub7\n",
      "analyzing net repaired_Sub7_petriNet.pnml\n",
      "analyzing net repaired_Sub7_petriNet_NLNI.pnml\n",
      "analyzing net repaired_Sub7_petriNet_YLNI.pnml\n"
     ]
    }
   ],
   "source": [
    "#if os.path.exists(results_filename):\n",
    "#    os.remove(results_filename)\n",
    "    \n",
    "df_result = pd.DataFrame(columns=['Sub','petriNet_PercFitTraces', 'petriNet_Fitness', 'petriNet_Precision', 'petriNet_Simp',\n",
    "                                  'petriNet_arcs','petriNet_trans', 'petriNet_places', 'NLNI_PercFitTraces', 'NLNI_Fitness',\n",
    "                                  'NLNI_Precision', 'NLNI_Simp','NLNI_arcs','NLNI_trans', 'NLNI_places', 'YLNI_PercFitTraces',\n",
    "                                  'YLNI_Fitness','YLNI_Precision', 'YLNI_Simp','YLNI_arcs','YLNI_trans', 'YLNI_places'\n",
    "                                 ])\n",
    "\n",
    "for entry in os.scandir(base_path / 'test_repairing'):\n",
    "    if entry.is_dir():\n",
    "        res_mapping={}\n",
    "        print(\"working on dir \"+entry.name)\n",
    "        for file in os.listdir(entry):\n",
    "            if file.endswith(\".pnml\"): #and (\"NLNI\" in file or \"YLNI\" in file):\n",
    "                #compute the values\n",
    "                pnml_filename = str(base_path / f'test_repairing/{entry.name}/{file}')\n",
    "                print(\"analyzing net \"+file)\n",
    "                net, initial_marking, final_marking = pnml_importer.apply(pnml_filename)\n",
    "                \n",
    "#                 fitness = replay_fitness_evaluator.apply(log, net, initial_marking, final_marking, variant=replay_fitness_evaluator.Variants.ALIGNMENT_BASED)\n",
    "#                 print(\"fitness\" + str(fitness['averageFitness']))\n",
    "                \n",
    "#                 prec = precision_evaluator.apply(log, net, initial_marking, final_marking, variant=precision_evaluator.Variants.ALIGN_ETCONFORMANCE)\n",
    "#                 print(\"precision\" + str(prec))\n",
    "\n",
    "#                 simp = simplicity_evaluator.apply(net)\n",
    "#                 print(\"simplicity\" + str(simp))\n",
    "                \n",
    "                arcs=len(net.arcs)\n",
    "                trans=len(net.transitions)\n",
    "                places=len(net.places)\n",
    "                \n",
    "                #fill the dictionary\n",
    "                net_tokens=file.split(\"_\")\n",
    "                last_el=net_tokens[-1].replace(\".pnml\",\"\")\n",
    "#                 res_mapping[last_el+\"_percFitTrace\"]=fitness['percFitTraces']\n",
    "#                 res_mapping[last_el+\"_fit\"]=fitness['averageFitness']\n",
    "#                 res_mapping[last_el+\"_prec\"]=prec\n",
    "#                 res_mapping[last_el+\"_simp\"]=simp\n",
    "                res_mapping[last_el+\"_arcs\"]=arcs\n",
    "                res_mapping[last_el+\"_trans\"]=trans\n",
    "                res_mapping[last_el+\"_places\"]=places\n",
    "\n",
    "\n",
    "        #update the results file\n",
    "        df_result = df_result.append({'Sub': entry.name, 'petriNet_PercFitTraces':res_mapping.get(\"petriNet_percFitTrace\"), 'petriNet_Fitness':res_mapping.get(\"petriNet_fit\"),\n",
    "                                      'petriNet_Precision':res_mapping.get(\"petriNet_prec\"),'petriNet_Simp':res_mapping.get(\"petriNet_simp\"), 'petriNet_arcs':res_mapping.get(\"petriNet_arcs\"),\n",
    "                                      'petriNet_trans':res_mapping.get(\"petriNet_trans\"), 'petriNet_places':res_mapping.get(\"petriNet_places\"),'NLNI_PercFitTraces': res_mapping.get(\"NLNI_percFitTrace\"),\n",
    "                                      'NLNI_Fitness':res_mapping.get(\"NLNI_fit\"),'NLNI_Precision':res_mapping.get(\"NLNI_prec\"),'NLNI_Simp':res_mapping.get(\"NLNI_simp\"), \n",
    "                                      'NLNI_arcs':res_mapping.get(\"NLNI_arcs\"),'NLNI_trans':res_mapping.get(\"NLNI_trans\"), 'NLNI_places':res_mapping.get(\"NLNI_places\"),\n",
    "                                      'YLNI_PercFitTraces': res_mapping.get(\"YLNI_percFitTrace\"),'YLNI_Fitness':res_mapping.get(\"YLNI_fit\"),'YLNI_Precision':res_mapping.get(\"YLNI_prec\"),\n",
    "                                      'YLNI_Simp':res_mapping.get(\"YLNI_simp\"),'YLNI_arcs':res_mapping.get(\"YLNI_arcs\"),'YLNI_trans':res_mapping.get(\"YLNI_trans\"), 'YLNI_places':res_mapping.get(\"YLNI_places\")}, ignore_index=True)\n",
    "        df_result.to_csv(results_filename, sep=\";\")\n",
    "        \n",
    "#pmnl_filename = str(base_path / f'{entry.name}/repaired_{entry.name.replace(\"_\",\"\")}_petriNet.pnml')\n",
    "#df_result = df_result.append({'User_ID': 23, 'UserName': 'Riti', 'Action': 'Login'}, ignore_index=True)\n"
   ]
  },
  {
   "cell_type": "code",
   "execution_count": 10,
   "metadata": {},
   "outputs": [
    {
     "name": "stdout",
     "output_type": "stream",
     "text": [
      "arcs 38\n",
      "transitions 19\n",
      "places 9\n"
     ]
    },
    {
     "data": {
      "application/vnd.jupyter.widget-view+json": {
       "model_id": "3ada6e470a354ff9b3d28f5431fd6f1a",
       "version_major": 2,
       "version_minor": 0
      },
      "text/plain": [
       "HBox(children=(IntProgress(value=0, description='aligning log, completed variants :: ', max=227, style=Progres…"
      ]
     },
     "metadata": {},
     "output_type": "display_data"
    },
    {
     "name": "stdout",
     "output_type": "stream",
     "text": [
      "\n",
      "fitness0.9957202749256695\n"
     ]
    },
    {
     "data": {
      "application/vnd.jupyter.widget-view+json": {
       "model_id": "82286a1858b94ab595ab4509a12981de",
       "version_major": 2,
       "version_minor": 0
      },
      "text/plain": [
       "HBox(children=(IntProgress(value=0, description='computing precision with alignments, completed variants :: ',…"
      ]
     },
     "metadata": {},
     "output_type": "display_data"
    },
    {
     "name": "stdout",
     "output_type": "stream",
     "text": [
      "\n",
      "precision0.8204281600929435\n",
      "simplicity0.5833333333333333\n"
     ]
    }
   ],
   "source": [
    "net, initial_marking, final_marking = pnml_importer.apply('C:/Users/lgenga/Google Drive/MaterialeFabio/fineExp/fineExp_petriNet.pnml')\n",
    "arcs=net.arcs\n",
    "transitions=net.transitions\n",
    "places=net.places\n",
    "\n",
    "print(\"arcs \"+str(len(arcs)))\n",
    "print(\"transitions \"+str(len(transitions)))\n",
    "print(\"places \"+str(len(places)))\n",
    "\n",
    "fitness = replay_fitness_evaluator.apply(log, net, initial_marking, final_marking, variant=replay_fitness_evaluator.Variants.ALIGNMENT_BASED)\n",
    "print(\"fitness\" + str(fitness['averageFitness']))\n",
    "\n",
    "prec = precision_evaluator.apply(log, net, initial_marking, final_marking, variant=precision_evaluator.Variants.ALIGN_ETCONFORMANCE)\n",
    "print(\"precision\" + str(prec))\n",
    "\n",
    "simp = simplicity_evaluator.apply(net)\n",
    "print(\"simplicity\" + str(simp))\n",
    "\n"
   ]
  },
  {
   "cell_type": "code",
   "execution_count": null,
   "metadata": {},
   "outputs": [],
   "source": [
    "df_result = df_result.append({'Sub': entry.name, 'NLNI_PercFitTraces': res_mapping[\"NLNI.pnml_percFitTrace\"] ,'NLNI_Fitness':res_mapping[\"NLNI.pnml_fit\"],\n",
    "                                    'NLNI_Precision':res_mapping[\"NLNI.pnml_prec\"],'NLNI_Simp':res_mapping[\"NLNI.pnml_simp\"],\n",
    "                                    'YLNI_PercFitTraces': res_mapping[\"YLNI.pnml_percFitTrace\"] , 'YLNI_Fitness':res_mapping[\"YLNI.pnml_fit\"],\n",
    "                                    'YLNI_Precision':res_mapping[\"YLNI.pnml_prec\"],'YLNI_Simp':res_mapping[\"YLNI.pnml_simp\"],\n",
    "                                    'YLYI_PercFitTraces': res_mapping.get(\"YLYI.pnml_percFitTrace\") , 'YLYI_Fitness':res_mapping.get(\"YLYI.pnml_fit\"),\n",
    "                                    'YLYI_Precision':res_mapping.get(\"YLYI.pnml_prec\"),'YLYI_Simp':res_mapping.get(\"YLYI.pnml_simp\")}, ignore_index=True)\n"
   ]
  },
  {
   "cell_type": "code",
   "execution_count": null,
   "metadata": {},
   "outputs": [],
   "source": [
    "df_result"
   ]
  },
  {
   "cell_type": "code",
   "execution_count": null,
   "metadata": {},
   "outputs": [],
   "source": [
    "net_test, initial_marking, final_marking = pnml_importer.apply(str(base_path / f'test_repairing/Sub_29/repaired_Sub29_petriNet_NLNI.pnml'))\n",
    "fitness_tes = replay_fitness_evaluator.apply(log, net_test, initial_marking, final_marking, variant=replay_fitness_evaluator.Variants.ALIGNMENT_BASED)\n",
    "                   "
   ]
  },
  {
   "cell_type": "code",
   "execution_count": null,
   "metadata": {},
   "outputs": [],
   "source": [
    "aligned_traces = alignments.apply_log(log, net_test, initial_marking, final_marking)\n"
   ]
  },
  {
   "cell_type": "code",
   "execution_count": null,
   "metadata": {},
   "outputs": [],
   "source": [
    "aligned_traces"
   ]
  },
  {
   "cell_type": "code",
   "execution_count": null,
   "metadata": {},
   "outputs": [],
   "source": [
    "fitness_tes\n",
    "    "
   ]
  },
  {
   "cell_type": "code",
   "execution_count": null,
   "metadata": {},
   "outputs": [],
   "source": []
  }
 ],
 "metadata": {
  "kernelspec": {
   "display_name": "Python 3",
   "language": "python",
   "name": "python3"
  },
  "language_info": {
   "codemirror_mode": {
    "name": "ipython",
    "version": 3
   },
   "file_extension": ".py",
   "mimetype": "text/x-python",
   "name": "python",
   "nbconvert_exporter": "python",
   "pygments_lexer": "ipython3",
   "version": "3.7.4"
  }
 },
 "nbformat": 4,
 "nbformat_minor": 2
}
