{
 "cells": [
  {
   "cell_type": "code",
   "execution_count": 1,
   "metadata": {},
   "outputs": [],
   "source": [
    "import os\n",
    "import os.path\n",
    "from pathlib import Path\n",
    "import pandas as pd\n",
    "import pm4py\n",
    "from pm4py.objects.petri_net.importer import importer as pnml_importer\n",
    "from pm4py.visualization.petri_net import visualizer as pn_visualizer\n",
    "from pm4py.objects.log.importer.xes import importer as xes_importer\n",
    "from pm4py.algo.evaluation.replay_fitness import algorithm as replay_fitness_evaluator\n",
    "from pm4py.algo.evaluation.precision import algorithm as precision_evaluator\n",
    "from pm4py.algo.evaluation.simplicity import algorithm as simplicity_evaluator\n",
    "from pm4py.algo.conformance.alignments.petri_net import algorithm as alignments\n",
    "from pm4py.algo.analysis.woflan import algorithm as woflan"
   ]
  },
  {
   "cell_type": "code",
   "execution_count": 2,
   "metadata": {},
   "outputs": [
    {
     "data": {
      "application/vnd.jupyter.widget-view+json": {
       "model_id": "4ca98ea847f34533a73a3807772538f6",
       "version_major": 2,
       "version_minor": 0
      },
      "text/plain": [
       "HBox(children=(IntProgress(value=0, description='parsing log, completed traces :: ', max=3093, style=ProgressS…"
      ]
     },
     "metadata": {},
     "output_type": "display_data"
    },
    {
     "name": "stdout",
     "output_type": "stream",
     "text": [
      "\n"
     ]
    }
   ],
   "source": [
    "results_filename='C:/Users/lgenga/Google Drive/MaterialeFabio/BPI2017DENIED/results_LIG.csv'\n",
    "base_path = Path(os.path.dirname(results_filename))\n",
    "eventlog_or= str(base_path / 'BPI2017DENIED.xes')\n",
    "log = xes_importer.apply(eventlog_or)\n",
    "                         \n"
   ]
  },
  {
   "cell_type": "code",
   "execution_count": 3,
   "metadata": {},
   "outputs": [
    {
     "name": "stdout",
     "output_type": "stream",
     "text": [
      "working on dir Sub_12\n",
      "analyzing net repaired_Sub12_petriNet.pnml\n"
     ]
    },
    {
     "data": {
      "application/vnd.jupyter.widget-view+json": {
       "model_id": "191f1ac5144b4fda8d009801b100bf63",
       "version_major": 2,
       "version_minor": 0
      },
      "text/plain": [
       "HBox(children=(IntProgress(value=0, description='aligning log, completed variants :: ', max=2038, style=Progre…"
      ]
     },
     "metadata": {},
     "output_type": "display_data"
    },
    {
     "name": "stdout",
     "output_type": "stream",
     "text": [
      "\n",
      "fitness0.8090792913370703\n"
     ]
    },
    {
     "data": {
      "application/vnd.jupyter.widget-view+json": {
       "model_id": "3033177a13ec4d41b964314523a8e8de",
       "version_major": 2,
       "version_minor": 0
      },
      "text/plain": [
       "HBox(children=(IntProgress(value=0, description='computing precision with alignments, completed variants :: ',…"
      ]
     },
     "metadata": {},
     "output_type": "display_data"
    },
    {
     "name": "stdout",
     "output_type": "stream",
     "text": [
      "\n",
      "precision0.7523169515932504\n",
      "simplicity0.7155555555555556\n",
      "working on dir Sub_15\n",
      "analyzing net repaired_Sub15_petriNet.pnml\n"
     ]
    },
    {
     "data": {
      "application/vnd.jupyter.widget-view+json": {
       "model_id": "9f3ebf2a68b248baa7b236cbef716f3f",
       "version_major": 2,
       "version_minor": 0
      },
      "text/plain": [
       "HBox(children=(IntProgress(value=0, description='aligning log, completed variants :: ', max=2038, style=Progre…"
      ]
     },
     "metadata": {},
     "output_type": "display_data"
    },
    {
     "name": "stdout",
     "output_type": "stream",
     "text": [
      "\n",
      "fitness0.8333178575155409\n"
     ]
    },
    {
     "data": {
      "application/vnd.jupyter.widget-view+json": {
       "model_id": "1974a1b604264de586d8779cb8133af2",
       "version_major": 2,
       "version_minor": 0
      },
      "text/plain": [
       "HBox(children=(IntProgress(value=0, description='computing precision with alignments, completed variants :: ',…"
      ]
     },
     "metadata": {},
     "output_type": "display_data"
    },
    {
     "name": "stdout",
     "output_type": "stream",
     "text": [
      "\n",
      "precision0.7750628678090893\n",
      "simplicity0.7117117117117118\n",
      "working on dir Sub_24\n",
      "analyzing net repaired_Sub24_petriNet.pnml\n"
     ]
    },
    {
     "data": {
      "application/vnd.jupyter.widget-view+json": {
       "model_id": "d870d84bb25843aebf5358557856f505",
       "version_major": 2,
       "version_minor": 0
      },
      "text/plain": [
       "HBox(children=(IntProgress(value=0, description='aligning log, completed variants :: ', max=2038, style=Progre…"
      ]
     },
     "metadata": {},
     "output_type": "display_data"
    },
    {
     "name": "stdout",
     "output_type": "stream",
     "text": [
      "\n",
      "fitness0.8120715121164057\n"
     ]
    },
    {
     "data": {
      "application/vnd.jupyter.widget-view+json": {
       "model_id": "b43bafe0ee78450ab7dbb603ffcb1a2b",
       "version_major": 2,
       "version_minor": 0
      },
      "text/plain": [
       "HBox(children=(IntProgress(value=0, description='computing precision with alignments, completed variants :: ',…"
      ]
     },
     "metadata": {},
     "output_type": "display_data"
    },
    {
     "name": "stdout",
     "output_type": "stream",
     "text": [
      "\n",
      "precision0.5081193658210434\n",
      "simplicity0.7000000000000001\n",
      "working on dir Sub_3\n",
      "analyzing net repaired_Sub3_petriNet.pnml\n"
     ]
    },
    {
     "data": {
      "application/vnd.jupyter.widget-view+json": {
       "model_id": "e92ca94954b94c639cd9730f67db0289",
       "version_major": 2,
       "version_minor": 0
      },
      "text/plain": [
       "HBox(children=(IntProgress(value=0, description='aligning log, completed variants :: ', max=2038, style=Progre…"
      ]
     },
     "metadata": {},
     "output_type": "display_data"
    },
    {
     "name": "stdout",
     "output_type": "stream",
     "text": [
      "\n",
      "fitness0.8182763363514269\n"
     ]
    },
    {
     "data": {
      "application/vnd.jupyter.widget-view+json": {
       "model_id": "9fb28513c5984b7d982e85493f985c9c",
       "version_major": 2,
       "version_minor": 0
      },
      "text/plain": [
       "HBox(children=(IntProgress(value=0, description='computing precision with alignments, completed variants :: ',…"
      ]
     },
     "metadata": {},
     "output_type": "display_data"
    },
    {
     "name": "stdout",
     "output_type": "stream",
     "text": [
      "\n",
      "precision0.6433622207308414\n",
      "simplicity0.6793893129770994\n",
      "working on dir Sub_34\n",
      "analyzing net repaired_Sub34_petriNet.pnml\n"
     ]
    },
    {
     "data": {
      "application/vnd.jupyter.widget-view+json": {
       "model_id": "b4a7202065744087ab51c741f10c83e6",
       "version_major": 2,
       "version_minor": 0
      },
      "text/plain": [
       "HBox(children=(IntProgress(value=0, description='aligning log, completed variants :: ', max=2038, style=Progre…"
      ]
     },
     "metadata": {},
     "output_type": "display_data"
    },
    {
     "name": "stdout",
     "output_type": "stream",
     "text": [
      "\n",
      "fitness0.8362145224856773\n"
     ]
    },
    {
     "data": {
      "application/vnd.jupyter.widget-view+json": {
       "model_id": "b0bd3000b9504facb3c313c3f641cd80",
       "version_major": 2,
       "version_minor": 0
      },
      "text/plain": [
       "HBox(children=(IntProgress(value=0, description='computing precision with alignments, completed variants :: ',…"
      ]
     },
     "metadata": {},
     "output_type": "display_data"
    },
    {
     "name": "stdout",
     "output_type": "stream",
     "text": [
      "\n",
      "precision0.7750628678090893\n",
      "simplicity0.7339055793991416\n",
      "working on dir Sub_39\n",
      "analyzing net repaired_Sub39_petriNet.pnml\n"
     ]
    },
    {
     "data": {
      "application/vnd.jupyter.widget-view+json": {
       "model_id": "26982fb0387747fc8b3df88957e07832",
       "version_major": 2,
       "version_minor": 0
      },
      "text/plain": [
       "HBox(children=(IntProgress(value=0, description='aligning log, completed variants :: ', max=2038, style=Progre…"
      ]
     },
     "metadata": {},
     "output_type": "display_data"
    },
    {
     "name": "stdout",
     "output_type": "stream",
     "text": [
      "\n",
      "fitness0.8129557068103209\n"
     ]
    },
    {
     "data": {
      "application/vnd.jupyter.widget-view+json": {
       "model_id": "905cbbe2d3b64ed486e416b832a5a1c0",
       "version_major": 2,
       "version_minor": 0
      },
      "text/plain": [
       "HBox(children=(IntProgress(value=0, description='computing precision with alignments, completed variants :: ',…"
      ]
     },
     "metadata": {},
     "output_type": "display_data"
    },
    {
     "name": "stdout",
     "output_type": "stream",
     "text": [
      "\n",
      "precision0.7575298351960599\n",
      "simplicity0.7142857142857143\n",
      "working on dir Sub_4\n",
      "analyzing net repaired_Sub4_petriNet.pnml\n"
     ]
    },
    {
     "data": {
      "application/vnd.jupyter.widget-view+json": {
       "model_id": "f0eee9c6cd9342bd85408b249eb24ca1",
       "version_major": 2,
       "version_minor": 0
      },
      "text/plain": [
       "HBox(children=(IntProgress(value=0, description='aligning log, completed variants :: ', max=2038, style=Progre…"
      ]
     },
     "metadata": {},
     "output_type": "display_data"
    },
    {
     "name": "stdout",
     "output_type": "stream",
     "text": [
      "\n",
      "fitness0.8305111727507908\n"
     ]
    },
    {
     "data": {
      "application/vnd.jupyter.widget-view+json": {
       "model_id": "eeda578ea4af4e90a54544e3cbd3c63a",
       "version_major": 2,
       "version_minor": 0
      },
      "text/plain": [
       "HBox(children=(IntProgress(value=0, description='computing precision with alignments, completed variants :: ',…"
      ]
     },
     "metadata": {},
     "output_type": "display_data"
    },
    {
     "name": "stdout",
     "output_type": "stream",
     "text": [
      "\n",
      "precision0.7750628678090893\n",
      "simplicity0.7046413502109705\n",
      "working on dir Sub_42\n",
      "analyzing net repaired_Sub42_petriNet.pnml\n"
     ]
    },
    {
     "data": {
      "application/vnd.jupyter.widget-view+json": {
       "model_id": "a06fa1a9166440959face20468d2edf4",
       "version_major": 2,
       "version_minor": 0
      },
      "text/plain": [
       "HBox(children=(IntProgress(value=0, description='aligning log, completed variants :: ', max=2038, style=Progre…"
      ]
     },
     "metadata": {},
     "output_type": "display_data"
    },
    {
     "name": "stdout",
     "output_type": "stream",
     "text": [
      "\n",
      "fitness0.8737414338481077\n"
     ]
    },
    {
     "data": {
      "application/vnd.jupyter.widget-view+json": {
       "model_id": "46f963223a42414e940709d04ade2866",
       "version_major": 2,
       "version_minor": 0
      },
      "text/plain": [
       "HBox(children=(IntProgress(value=0, description='computing precision with alignments, completed variants :: ',…"
      ]
     },
     "metadata": {},
     "output_type": "display_data"
    },
    {
     "name": "stdout",
     "output_type": "stream",
     "text": [
      "\n",
      "precision0.7084500775622602\n",
      "simplicity0.6865671641791046\n",
      "working on dir Sub_45\n",
      "analyzing net repaired_Sub45_petriNet.pnml\n"
     ]
    },
    {
     "data": {
      "application/vnd.jupyter.widget-view+json": {
       "model_id": "92ffe4cacf3a4d7e8f5912c672b6c6cf",
       "version_major": 2,
       "version_minor": 0
      },
      "text/plain": [
       "HBox(children=(IntProgress(value=0, description='aligning log, completed variants :: ', max=2038, style=Progre…"
      ]
     },
     "metadata": {},
     "output_type": "display_data"
    },
    {
     "name": "stdout",
     "output_type": "stream",
     "text": [
      "\n",
      "fitness0.8101864365197742\n"
     ]
    },
    {
     "data": {
      "application/vnd.jupyter.widget-view+json": {
       "model_id": "6c2e5c40dfd14605bc3d8a99088781b5",
       "version_major": 2,
       "version_minor": 0
      },
      "text/plain": [
       "HBox(children=(IntProgress(value=0, description='computing precision with alignments, completed variants :: ',…"
      ]
     },
     "metadata": {},
     "output_type": "display_data"
    },
    {
     "name": "stdout",
     "output_type": "stream",
     "text": [
      "\n",
      "precision0.7633622088523854\n",
      "simplicity0.7190082644628099\n",
      "working on dir Sub_6\n",
      "analyzing net repaired_Sub6_petriNet.pnml\n"
     ]
    },
    {
     "data": {
      "application/vnd.jupyter.widget-view+json": {
       "model_id": "ecfb7b7da8db447394485d7fd8f7ae63",
       "version_major": 2,
       "version_minor": 0
      },
      "text/plain": [
       "HBox(children=(IntProgress(value=0, description='aligning log, completed variants :: ', max=2038, style=Progre…"
      ]
     },
     "metadata": {},
     "output_type": "display_data"
    },
    {
     "name": "stdout",
     "output_type": "stream",
     "text": [
      "\n",
      "fitness0.8272596012760267\n"
     ]
    },
    {
     "data": {
      "application/vnd.jupyter.widget-view+json": {
       "model_id": "3ca1393f6bf14eb387787ba698e84a41",
       "version_major": 2,
       "version_minor": 0
      },
      "text/plain": [
       "HBox(children=(IntProgress(value=0, description='computing precision with alignments, completed variants :: ',…"
      ]
     },
     "metadata": {},
     "output_type": "display_data"
    },
    {
     "name": "stdout",
     "output_type": "stream",
     "text": [
      "\n",
      "precision0.7750628678090893\n",
      "simplicity0.7207207207207206\n",
      "working on dir to_check\n"
     ]
    }
   ],
   "source": [
    "#if os.path.exists(results_filename):\n",
    "#    os.remove(results_filename)\n",
    "    \n",
    "df_result = pd.DataFrame(columns=['Sub','petriNet_PercFitTraces', 'petriNet_Fitness', 'petriNet_Precision', 'petriNet_Simp',\n",
    "                                  'petriNet_arcs','petriNet_trans', 'petriNet_places', 'NLNI_PercFitTraces', 'NLNI_Fitness',\n",
    "                                  'NLNI_Precision', 'NLNI_Simp','NLNI_arcs','NLNI_trans', 'NLNI_places', 'YLNI_PercFitTraces',\n",
    "                                  'YLNI_Fitness','YLNI_Precision', 'YLNI_Simp','YLNI_arcs','YLNI_trans', 'YLNI_places'\n",
    "                                 ])\n",
    "\n",
    "for entry in os.scandir(base_path / 'test_repairing'):\n",
    "    if entry.is_dir():\n",
    "        res_mapping={}\n",
    "        print(\"working on dir \"+entry.name)\n",
    "        for file in os.listdir(entry):\n",
    "            if file.endswith(\".pnml\") and (\"NLNI\" not in file and \"YLNI\" not in file):\n",
    "                #compute the values\n",
    "                pnml_filename = str(base_path / f'test_repairing/{entry.name}/{file}')\n",
    "                print(\"analyzing net \"+file)\n",
    "                net, initial_marking, final_marking = pnml_importer.apply(pnml_filename)\n",
    "                \n",
    "                fitness = replay_fitness_evaluator.apply(log, net, initial_marking, final_marking, variant=replay_fitness_evaluator.Variants.ALIGNMENT_BASED)\n",
    "                print(\"fitness\" + str(fitness['averageFitness']))\n",
    "                \n",
    "                prec = precision_evaluator.apply(log, net, initial_marking, final_marking, variant=precision_evaluator.Variants.ALIGN_ETCONFORMANCE)\n",
    "                print(\"precision\" + str(prec))\n",
    "\n",
    "                simp = simplicity_evaluator.apply(net)\n",
    "                print(\"simplicity\" + str(simp))\n",
    "                \n",
    "                arcs=len(net.arcs)\n",
    "                trans=len(net.transitions)\n",
    "                places=len(net.places)\n",
    "                \n",
    "                #fill the dictionary\n",
    "                net_tokens=file.split(\"_\")\n",
    "                last_el=net_tokens[-1].replace(\".pnml\",\"\")\n",
    "                res_mapping[last_el+\"_percFitTrace\"]=fitness['percFitTraces']\n",
    "                res_mapping[last_el+\"_fit\"]=fitness['averageFitness']\n",
    "                res_mapping[last_el+\"_prec\"]=prec\n",
    "                res_mapping[last_el+\"_simp\"]=simp\n",
    "                res_mapping[last_el+\"_arcs\"]=arcs\n",
    "                res_mapping[last_el+\"_trans\"]=trans\n",
    "                res_mapping[last_el+\"_places\"]=places\n",
    "\n",
    "\n",
    "        #update the results file\n",
    "        df_result = df_result.append({'Sub': entry.name, 'petriNet_PercFitTraces':res_mapping.get(\"petriNet_percFitTrace\"), 'petriNet_Fitness':res_mapping.get(\"petriNet_fit\"),\n",
    "                                      'petriNet_Precision':res_mapping.get(\"petriNet_prec\"),'petriNet_Simp':res_mapping.get(\"petriNet_simp\"), 'petriNet_arcs':res_mapping.get(\"petriNet_arcs\"),\n",
    "                                      'petriNet_trans':res_mapping.get(\"petriNet_trans\"), 'petriNet_places':res_mapping.get(\"petriNet_places\"),'NLNI_PercFitTraces': res_mapping.get(\"NLNI_percFitTrace\"),\n",
    "                                      'NLNI_Fitness':res_mapping.get(\"NLNI_fit\"),'NLNI_Precision':res_mapping.get(\"NLNI_prec\"),'NLNI_Simp':res_mapping.get(\"NLNI_simp\"), \n",
    "                                      'NLNI_arcs':res_mapping.get(\"NLNI_arcs\"),'NLNI_trans':res_mapping.get(\"NLNI_trans\"), 'NLNI_places':res_mapping.get(\"NLNI_places\"),\n",
    "                                      'YLNI_PercFitTraces': res_mapping.get(\"YLNI_percFitTrace\"),'YLNI_Fitness':res_mapping.get(\"YLNI_fit\"),'YLNI_Precision':res_mapping.get(\"YLNI_prec\"),\n",
    "                                      'YLNI_Simp':res_mapping.get(\"YLNI_simp\"),'YLNI_arcs':res_mapping.get(\"YLNI_arcs\"),'YLNI_trans':res_mapping.get(\"YLNI_trans\"), 'YLNI_places':res_mapping.get(\"YLNI_places\")}, ignore_index=True)\n",
    "        df_result.to_csv(results_filename, sep=\";\")\n",
    "        \n",
    "#pmnl_filename = str(base_path / f'{entry.name}/repaired_{entry.name.replace(\"_\",\"\")}_petriNet.pnml')\n",
    "#df_result = df_result.append({'User_ID': 23, 'UserName': 'Riti', 'Action': 'Login'}, ignore_index=True)\n"
   ]
  },
  {
   "cell_type": "code",
   "execution_count": 2,
   "metadata": {},
   "outputs": [
    {
     "data": {
      "application/vnd.jupyter.widget-view+json": {
       "model_id": "76dfca02aaea4f0ca153888ff55d1bef",
       "version_major": 2,
       "version_minor": 0
      },
      "text/plain": [
       "HBox(children=(IntProgress(value=0, description='parsing log, completed traces :: ', max=3093, style=ProgressS…"
      ]
     },
     "metadata": {},
     "output_type": "display_data"
    },
    {
     "name": "stdout",
     "output_type": "stream",
     "text": [
      "\n",
      "arcs 284\n",
      "transitions 137\n",
      "places 80\n"
     ]
    },
    {
     "data": {
      "application/vnd.jupyter.widget-view+json": {
       "model_id": "de0a8f7ae66741d4a6185102fef78c96",
       "version_major": 2,
       "version_minor": 0
      },
      "text/plain": [
       "HBox(children=(IntProgress(value=0, description='aligning log, completed variants :: ', max=2038, style=Progre…"
      ]
     },
     "metadata": {},
     "output_type": "display_data"
    },
    {
     "name": "stdout",
     "output_type": "stream",
     "text": [
      "\n",
      "fitness0.9725447492766156\n"
     ]
    },
    {
     "data": {
      "application/vnd.jupyter.widget-view+json": {
       "model_id": "572337760850420db0a5c576ddad40a3",
       "version_major": 2,
       "version_minor": 0
      },
      "text/plain": [
       "HBox(children=(IntProgress(value=0, description='computing precision with alignments, completed variants :: ',…"
      ]
     },
     "metadata": {},
     "output_type": "display_data"
    },
    {
     "name": "stdout",
     "output_type": "stream",
     "text": [
      "\n",
      "precision0.07966435871638611\n",
      "simplicity0.6182336182336181\n"
     ]
    }
   ],
   "source": [
    "log_file=\"C:/Users/lgenga/Google Drive/MaterialeFabio/BPI2017DENIED/BPI2017DENIED.xes\"\n",
    "pnml_file=\"C:/Users/lgenga/Google Drive/MaterialeFabio/BPI2017DENIED/test_repairing/Sub_15/repaired_Sub15_petriNet_NLNI.pnml\"\n",
    "\n",
    "log = xes_importer.apply(log_file)\n",
    "net, initial_marking, final_marking = pnml_importer.apply(pnml_file)\n",
    "arcs=net.arcs\n",
    "transitions=net.transitions\n",
    "places=net.places\n",
    "\n",
    "print(\"arcs \"+str(len(arcs)))\n",
    "print(\"transitions \"+str(len(transitions)))\n",
    "print(\"places \"+str(len(places)))\n",
    "\n",
    "fitness = replay_fitness_evaluator.apply(log, net, initial_marking, final_marking, variant=replay_fitness_evaluator.Variants.ALIGNMENT_BASED)\n",
    "print(\"fitness\" + str(fitness['averageFitness']))\n",
    "\n",
    "prec = precision_evaluator.apply(log, net, initial_marking, final_marking, variant=precision_evaluator.Variants.ALIGN_ETCONFORMANCE)\n",
    "print(\"precision\" + str(prec))\n",
    "\n",
    "simp = simplicity_evaluator.apply(net)\n",
    "print(\"simplicity\" + str(simp))\n",
    "\n"
   ]
  },
  {
   "cell_type": "code",
   "execution_count": null,
   "metadata": {},
   "outputs": [],
   "source": [
    "df_result = df_result.append({'Sub': entry.name, 'NLNI_PercFitTraces': res_mapping[\"NLNI.pnml_percFitTrace\"] ,'NLNI_Fitness':res_mapping[\"NLNI.pnml_fit\"],\n",
    "                                    'NLNI_Precision':res_mapping[\"NLNI.pnml_prec\"],'NLNI_Simp':res_mapping[\"NLNI.pnml_simp\"],\n",
    "                                    'YLNI_PercFitTraces': res_mapping[\"YLNI.pnml_percFitTrace\"] , 'YLNI_Fitness':res_mapping[\"YLNI.pnml_fit\"],\n",
    "                                    'YLNI_Precision':res_mapping[\"YLNI.pnml_prec\"],'YLNI_Simp':res_mapping[\"YLNI.pnml_simp\"],\n",
    "                                    'YLYI_PercFitTraces': res_mapping.get(\"YLYI.pnml_percFitTrace\") , 'YLYI_Fitness':res_mapping.get(\"YLYI.pnml_fit\"),\n",
    "                                    'YLYI_Precision':res_mapping.get(\"YLYI.pnml_prec\"),'YLYI_Simp':res_mapping.get(\"YLYI.pnml_simp\")}, ignore_index=True)\n"
   ]
  },
  {
   "cell_type": "code",
   "execution_count": null,
   "metadata": {},
   "outputs": [],
   "source": [
    "df_result"
   ]
  },
  {
   "cell_type": "code",
   "execution_count": null,
   "metadata": {},
   "outputs": [],
   "source": [
    "net_test, initial_marking, final_marking = pnml_importer.apply(str(base_path / f'test_repairing/Sub_29/repaired_Sub29_petriNet_NLNI.pnml'))\n",
    "fitness_tes = replay_fitness_evaluator.apply(log, net_test, initial_marking, final_marking, variant=replay_fitness_evaluator.Variants.ALIGNMENT_BASED)\n",
    "                   "
   ]
  },
  {
   "cell_type": "code",
   "execution_count": null,
   "metadata": {},
   "outputs": [],
   "source": [
    "aligned_traces = alignments.apply_log(log, net_test, initial_marking, final_marking)\n"
   ]
  },
  {
   "cell_type": "code",
   "execution_count": null,
   "metadata": {},
   "outputs": [],
   "source": [
    "aligned_traces"
   ]
  },
  {
   "cell_type": "code",
   "execution_count": null,
   "metadata": {},
   "outputs": [],
   "source": [
    "fitness_tes\n",
    "    "
   ]
  }
 ],
 "metadata": {
  "kernelspec": {
   "display_name": "Python 3",
   "language": "python",
   "name": "python3"
  },
  "language_info": {
   "codemirror_mode": {
    "name": "ipython",
    "version": 3
   },
   "file_extension": ".py",
   "mimetype": "text/x-python",
   "name": "python",
   "nbconvert_exporter": "python",
   "pygments_lexer": "ipython3",
   "version": "3.7.4"
  }
 },
 "nbformat": 4,
 "nbformat_minor": 2
}
